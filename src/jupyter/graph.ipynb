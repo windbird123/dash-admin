{
 "cells": [
  {
   "cell_type": "code",
   "execution_count": 14,
   "metadata": {
    "collapsed": true,
    "ExecuteTime": {
     "end_time": "2023-09-23T15:40:35.739576100Z",
     "start_time": "2023-09-23T15:40:35.718396300Z"
    }
   },
   "outputs": [
    {
     "data": {
      "text/plain": "                                                 title\n0                         [Admin 페이지 개발](Admin 페이지 개발)\n1                                         [Tips](Tips)\n2         [Generators in python](Generators in python)\n3                   [랜덤 포레스트 & 랜덤 서치](랜덤 포레스트 & 랜덤 서치)\n4     [확률적 경사 하강법 (+ 로지스틱 회귀)](확률적 경사 하강법 (+ 로지스틱 회귀))\n..                                                 ...\n299         [Stream WordCount 예제](Stream WordCount 예제)\n300                 [DataSet Join 예제](DataSet Join 예제)\n301       [DataSet WordCount 예제](DataSet WordCount 예제)\n302  [Future 의 concurrency control](Future 의 concur...\n303                   [Scala Learning](Scala Learning)\n\n[304 rows x 1 columns]",
      "text/html": "<div>\n<style scoped>\n    .dataframe tbody tr th:only-of-type {\n        vertical-align: middle;\n    }\n\n    .dataframe tbody tr th {\n        vertical-align: top;\n    }\n\n    .dataframe thead th {\n        text-align: right;\n    }\n</style>\n<table border=\"1\" class=\"dataframe\">\n  <thead>\n    <tr style=\"text-align: right;\">\n      <th></th>\n      <th>title</th>\n    </tr>\n  </thead>\n  <tbody>\n    <tr>\n      <th>0</th>\n      <td>[Admin 페이지 개발](Admin 페이지 개발)</td>\n    </tr>\n    <tr>\n      <th>1</th>\n      <td>[Tips](Tips)</td>\n    </tr>\n    <tr>\n      <th>2</th>\n      <td>[Generators in python](Generators in python)</td>\n    </tr>\n    <tr>\n      <th>3</th>\n      <td>[랜덤 포레스트 &amp; 랜덤 서치](랜덤 포레스트 &amp; 랜덤 서치)</td>\n    </tr>\n    <tr>\n      <th>4</th>\n      <td>[확률적 경사 하강법 (+ 로지스틱 회귀)](확률적 경사 하강법 (+ 로지스틱 회귀))</td>\n    </tr>\n    <tr>\n      <th>...</th>\n      <td>...</td>\n    </tr>\n    <tr>\n      <th>299</th>\n      <td>[Stream WordCount 예제](Stream WordCount 예제)</td>\n    </tr>\n    <tr>\n      <th>300</th>\n      <td>[DataSet Join 예제](DataSet Join 예제)</td>\n    </tr>\n    <tr>\n      <th>301</th>\n      <td>[DataSet WordCount 예제](DataSet WordCount 예제)</td>\n    </tr>\n    <tr>\n      <th>302</th>\n      <td>[Future 의 concurrency control](Future 의 concur...</td>\n    </tr>\n    <tr>\n      <th>303</th>\n      <td>[Scala Learning](Scala Learning)</td>\n    </tr>\n  </tbody>\n</table>\n<p>304 rows × 1 columns</p>\n</div>"
     },
     "execution_count": 14,
     "metadata": {},
     "output_type": "execute_result"
    }
   ],
   "source": [
    "import pandas as pd\n",
    "import duckdb\n",
    "\n",
    "df = pd.read_csv('../data/post_df.csv', parse_dates=['date'])\n",
    "df\n",
    "\n",
    "duckdb.sql(\"\"\"select concat('[', title, ']', '(', title, ')') title from df\"\"\").df()"
   ]
  },
  {
   "cell_type": "code",
   "execution_count": 7,
   "outputs": [
    {
     "data": {
      "text/plain": "     Unnamed: 0                         title                        post_url  \\\n0             0                  Admin 페이지 개발  https://wefree.tistory.com/316   \n1             1                          Tips  https://wefree.tistory.com/315   \n2             2          Generators in python  https://wefree.tistory.com/314   \n3             3               랜덤 포레스트 & 랜덤 서치  https://wefree.tistory.com/313   \n4             4        확률적 경사 하강법 (+ 로지스틱 회귀)  https://wefree.tistory.com/312   \n..          ...                           ...                             ...   \n299         299           Stream WordCount 예제    https://wefree.tistory.com/8   \n300         300               DataSet Join 예제    https://wefree.tistory.com/7   \n301         301          DataSet WordCount 예제    https://wefree.tistory.com/6   \n302         302  Future 의 concurrency control    https://wefree.tistory.com/3   \n303         303                Scala Learning    https://wefree.tistory.com/2   \n\n    main_category sub_category                date year_month  \n0          개인프로젝트          NaN 2023-09-01 14:06:57    2023-09  \n1          python           응용 2023-08-20 18:58:21    2023-08  \n2          python           응용 2023-08-20 17:47:48    2023-08  \n3      머신러닝(+딥러닝)          NaN 2023-08-10 19:52:51    2023-08  \n4      머신러닝(+딥러닝)          NaN 2023-08-08 17:43:27    2023-08  \n..            ...          ...                 ...        ...  \n299         flink          NaN 2021-05-15 23:57:17    2021-05  \n300         flink          NaN 2021-05-15 20:34:49    2021-05  \n301         flink          NaN 2021-05-15 15:08:21    2021-05  \n302         scala        basic 2021-03-28 15:52:39    2021-03  \n303         scala        basic 2021-03-28 15:28:15    2021-03  \n\n[304 rows x 7 columns]",
      "text/html": "<div>\n<style scoped>\n    .dataframe tbody tr th:only-of-type {\n        vertical-align: middle;\n    }\n\n    .dataframe tbody tr th {\n        vertical-align: top;\n    }\n\n    .dataframe thead th {\n        text-align: right;\n    }\n</style>\n<table border=\"1\" class=\"dataframe\">\n  <thead>\n    <tr style=\"text-align: right;\">\n      <th></th>\n      <th>Unnamed: 0</th>\n      <th>title</th>\n      <th>post_url</th>\n      <th>main_category</th>\n      <th>sub_category</th>\n      <th>date</th>\n      <th>year_month</th>\n    </tr>\n  </thead>\n  <tbody>\n    <tr>\n      <th>0</th>\n      <td>0</td>\n      <td>Admin 페이지 개발</td>\n      <td>https://wefree.tistory.com/316</td>\n      <td>개인프로젝트</td>\n      <td>NaN</td>\n      <td>2023-09-01 14:06:57</td>\n      <td>2023-09</td>\n    </tr>\n    <tr>\n      <th>1</th>\n      <td>1</td>\n      <td>Tips</td>\n      <td>https://wefree.tistory.com/315</td>\n      <td>python</td>\n      <td>응용</td>\n      <td>2023-08-20 18:58:21</td>\n      <td>2023-08</td>\n    </tr>\n    <tr>\n      <th>2</th>\n      <td>2</td>\n      <td>Generators in python</td>\n      <td>https://wefree.tistory.com/314</td>\n      <td>python</td>\n      <td>응용</td>\n      <td>2023-08-20 17:47:48</td>\n      <td>2023-08</td>\n    </tr>\n    <tr>\n      <th>3</th>\n      <td>3</td>\n      <td>랜덤 포레스트 &amp; 랜덤 서치</td>\n      <td>https://wefree.tistory.com/313</td>\n      <td>머신러닝(+딥러닝)</td>\n      <td>NaN</td>\n      <td>2023-08-10 19:52:51</td>\n      <td>2023-08</td>\n    </tr>\n    <tr>\n      <th>4</th>\n      <td>4</td>\n      <td>확률적 경사 하강법 (+ 로지스틱 회귀)</td>\n      <td>https://wefree.tistory.com/312</td>\n      <td>머신러닝(+딥러닝)</td>\n      <td>NaN</td>\n      <td>2023-08-08 17:43:27</td>\n      <td>2023-08</td>\n    </tr>\n    <tr>\n      <th>...</th>\n      <td>...</td>\n      <td>...</td>\n      <td>...</td>\n      <td>...</td>\n      <td>...</td>\n      <td>...</td>\n      <td>...</td>\n    </tr>\n    <tr>\n      <th>299</th>\n      <td>299</td>\n      <td>Stream WordCount 예제</td>\n      <td>https://wefree.tistory.com/8</td>\n      <td>flink</td>\n      <td>NaN</td>\n      <td>2021-05-15 23:57:17</td>\n      <td>2021-05</td>\n    </tr>\n    <tr>\n      <th>300</th>\n      <td>300</td>\n      <td>DataSet Join 예제</td>\n      <td>https://wefree.tistory.com/7</td>\n      <td>flink</td>\n      <td>NaN</td>\n      <td>2021-05-15 20:34:49</td>\n      <td>2021-05</td>\n    </tr>\n    <tr>\n      <th>301</th>\n      <td>301</td>\n      <td>DataSet WordCount 예제</td>\n      <td>https://wefree.tistory.com/6</td>\n      <td>flink</td>\n      <td>NaN</td>\n      <td>2021-05-15 15:08:21</td>\n      <td>2021-05</td>\n    </tr>\n    <tr>\n      <th>302</th>\n      <td>302</td>\n      <td>Future 의 concurrency control</td>\n      <td>https://wefree.tistory.com/3</td>\n      <td>scala</td>\n      <td>basic</td>\n      <td>2021-03-28 15:52:39</td>\n      <td>2021-03</td>\n    </tr>\n    <tr>\n      <th>303</th>\n      <td>303</td>\n      <td>Scala Learning</td>\n      <td>https://wefree.tistory.com/2</td>\n      <td>scala</td>\n      <td>basic</td>\n      <td>2021-03-28 15:28:15</td>\n      <td>2021-03</td>\n    </tr>\n  </tbody>\n</table>\n<p>304 rows × 7 columns</p>\n</div>"
     },
     "execution_count": 7,
     "metadata": {},
     "output_type": "execute_result"
    }
   ],
   "source": [
    "import duckdb\n",
    "\n",
    "# duckdb.sql(\"select * from df\").df()\n",
    "duckdb.sql(\"select *, strftime(date, '%Y-%m') as year_month from df\").df()"
   ],
   "metadata": {
    "collapsed": false,
    "ExecuteTime": {
     "end_time": "2023-09-19T04:57:28.997806500Z",
     "start_time": "2023-09-19T04:57:28.936129900Z"
    }
   }
  },
  {
   "cell_type": "code",
   "execution_count": 2,
   "outputs": [
    {
     "data": {
      "text/plain": "     Unnamed: 0                         title                        post_url  \\\n0             0                  Admin 페이지 개발  https://wefree.tistory.com/316   \n1             1                          Tips  https://wefree.tistory.com/315   \n2             2          Generators in python  https://wefree.tistory.com/314   \n3             3               랜덤 포레스트 & 랜덤 서치  https://wefree.tistory.com/313   \n4             4        확률적 경사 하강법 (+ 로지스틱 회귀)  https://wefree.tistory.com/312   \n..          ...                           ...                             ...   \n299         299           Stream WordCount 예제    https://wefree.tistory.com/8   \n300         300               DataSet Join 예제    https://wefree.tistory.com/7   \n301         301          DataSet WordCount 예제    https://wefree.tistory.com/6   \n302         302  Future 의 concurrency control    https://wefree.tistory.com/3   \n303         303                Scala Learning    https://wefree.tistory.com/2   \n\n    main_category sub_category                date year_month  \n0          개인프로젝트          NaN 2023-09-01 14:06:57    2023-09  \n1          python           응용 2023-08-20 18:58:21    2023-08  \n2          python           응용 2023-08-20 17:47:48    2023-08  \n3      머신러닝(+딥러닝)          NaN 2023-08-10 19:52:51    2023-08  \n4      머신러닝(+딥러닝)          NaN 2023-08-08 17:43:27    2023-08  \n..            ...          ...                 ...        ...  \n299         flink          NaN 2021-05-15 23:57:17    2021-05  \n300         flink          NaN 2021-05-15 20:34:49    2021-05  \n301         flink          NaN 2021-05-15 15:08:21    2021-05  \n302         scala        basic 2021-03-28 15:52:39    2021-03  \n303         scala        basic 2021-03-28 15:28:15    2021-03  \n\n[304 rows x 7 columns]",
      "text/html": "<div>\n<style scoped>\n    .dataframe tbody tr th:only-of-type {\n        vertical-align: middle;\n    }\n\n    .dataframe tbody tr th {\n        vertical-align: top;\n    }\n\n    .dataframe thead th {\n        text-align: right;\n    }\n</style>\n<table border=\"1\" class=\"dataframe\">\n  <thead>\n    <tr style=\"text-align: right;\">\n      <th></th>\n      <th>Unnamed: 0</th>\n      <th>title</th>\n      <th>post_url</th>\n      <th>main_category</th>\n      <th>sub_category</th>\n      <th>date</th>\n      <th>year_month</th>\n    </tr>\n  </thead>\n  <tbody>\n    <tr>\n      <th>0</th>\n      <td>0</td>\n      <td>Admin 페이지 개발</td>\n      <td>https://wefree.tistory.com/316</td>\n      <td>개인프로젝트</td>\n      <td>NaN</td>\n      <td>2023-09-01 14:06:57</td>\n      <td>2023-09</td>\n    </tr>\n    <tr>\n      <th>1</th>\n      <td>1</td>\n      <td>Tips</td>\n      <td>https://wefree.tistory.com/315</td>\n      <td>python</td>\n      <td>응용</td>\n      <td>2023-08-20 18:58:21</td>\n      <td>2023-08</td>\n    </tr>\n    <tr>\n      <th>2</th>\n      <td>2</td>\n      <td>Generators in python</td>\n      <td>https://wefree.tistory.com/314</td>\n      <td>python</td>\n      <td>응용</td>\n      <td>2023-08-20 17:47:48</td>\n      <td>2023-08</td>\n    </tr>\n    <tr>\n      <th>3</th>\n      <td>3</td>\n      <td>랜덤 포레스트 &amp; 랜덤 서치</td>\n      <td>https://wefree.tistory.com/313</td>\n      <td>머신러닝(+딥러닝)</td>\n      <td>NaN</td>\n      <td>2023-08-10 19:52:51</td>\n      <td>2023-08</td>\n    </tr>\n    <tr>\n      <th>4</th>\n      <td>4</td>\n      <td>확률적 경사 하강법 (+ 로지스틱 회귀)</td>\n      <td>https://wefree.tistory.com/312</td>\n      <td>머신러닝(+딥러닝)</td>\n      <td>NaN</td>\n      <td>2023-08-08 17:43:27</td>\n      <td>2023-08</td>\n    </tr>\n    <tr>\n      <th>...</th>\n      <td>...</td>\n      <td>...</td>\n      <td>...</td>\n      <td>...</td>\n      <td>...</td>\n      <td>...</td>\n      <td>...</td>\n    </tr>\n    <tr>\n      <th>299</th>\n      <td>299</td>\n      <td>Stream WordCount 예제</td>\n      <td>https://wefree.tistory.com/8</td>\n      <td>flink</td>\n      <td>NaN</td>\n      <td>2021-05-15 23:57:17</td>\n      <td>2021-05</td>\n    </tr>\n    <tr>\n      <th>300</th>\n      <td>300</td>\n      <td>DataSet Join 예제</td>\n      <td>https://wefree.tistory.com/7</td>\n      <td>flink</td>\n      <td>NaN</td>\n      <td>2021-05-15 20:34:49</td>\n      <td>2021-05</td>\n    </tr>\n    <tr>\n      <th>301</th>\n      <td>301</td>\n      <td>DataSet WordCount 예제</td>\n      <td>https://wefree.tistory.com/6</td>\n      <td>flink</td>\n      <td>NaN</td>\n      <td>2021-05-15 15:08:21</td>\n      <td>2021-05</td>\n    </tr>\n    <tr>\n      <th>302</th>\n      <td>302</td>\n      <td>Future 의 concurrency control</td>\n      <td>https://wefree.tistory.com/3</td>\n      <td>scala</td>\n      <td>basic</td>\n      <td>2021-03-28 15:52:39</td>\n      <td>2021-03</td>\n    </tr>\n    <tr>\n      <th>303</th>\n      <td>303</td>\n      <td>Scala Learning</td>\n      <td>https://wefree.tistory.com/2</td>\n      <td>scala</td>\n      <td>basic</td>\n      <td>2021-03-28 15:28:15</td>\n      <td>2021-03</td>\n    </tr>\n  </tbody>\n</table>\n<p>304 rows × 7 columns</p>\n</div>"
     },
     "execution_count": 2,
     "metadata": {},
     "output_type": "execute_result"
    }
   ],
   "source": [
    "df[\"year_month\"] = df[\"date\"].dt.strftime('%Y-%m')\n",
    "df\n"
   ],
   "metadata": {
    "collapsed": false,
    "ExecuteTime": {
     "end_time": "2023-09-17T09:50:12.537923200Z",
     "start_time": "2023-09-17T09:50:12.522052Z"
    }
   }
  },
  {
   "cell_type": "code",
   "execution_count": 3,
   "outputs": [
    {
     "data": {
      "text/plain": "year_month  main_category\n2021-03     scala             2\n2021-05     flink            11\n            scala             1\n            web               2\n2021-06     docker            1\n                             ..\n2023-07     python            6\n            scala             4\n2023-08     python            2\n            머신러닝(+딥러닝)        4\n2023-09     개인프로젝트            1\nName: post_url, Length: 96, dtype: int64"
     },
     "execution_count": 3,
     "metadata": {},
     "output_type": "execute_result"
    }
   ],
   "source": [
    "df2 : pd.Series = df.groupby(['year_month', 'main_category'])['post_url'].count()\n",
    "df2\n"
   ],
   "metadata": {
    "collapsed": false,
    "ExecuteTime": {
     "end_time": "2023-09-17T09:50:12.644677300Z",
     "start_time": "2023-09-17T09:50:12.537923200Z"
    }
   }
  },
  {
   "cell_type": "code",
   "execution_count": 17,
   "outputs": [],
   "source": [
    "df2 = df[['year_month', 'main_category']]\n",
    "df3 = df2.value_counts()"
   ],
   "metadata": {
    "collapsed": false,
    "ExecuteTime": {
     "end_time": "2023-09-17T09:58:27.288878200Z",
     "start_time": "2023-09-17T09:58:27.272383500Z"
    }
   }
  },
  {
   "cell_type": "code",
   "execution_count": 18,
   "outputs": [
    {
     "data": {
      "application/vnd.plotly.v1+json": {
       "data": [
        {
         "alignmentgroup": "True",
         "hovertemplate": "main_category=python<br>year_month=%{x}<br>count=%{y}<extra></extra>",
         "legendgroup": "python",
         "marker": {
          "color": "#636efa",
          "pattern": {
           "shape": ""
          }
         },
         "name": "python",
         "offsetgroup": "python",
         "orientation": "v",
         "showlegend": true,
         "textposition": "auto",
         "x": [
          "2022-04",
          "2022-05",
          "2023-07",
          "2022-09",
          "2022-10",
          "2023-05",
          "2023-04",
          "2023-01",
          "2023-08",
          "2023-06",
          "2023-02",
          "2022-07"
         ],
         "xaxis": "x",
         "y": [
          21,
          18,
          6,
          4,
          4,
          3,
          3,
          2,
          2,
          1,
          1,
          1
         ],
         "yaxis": "y",
         "type": "bar"
        },
        {
         "alignmentgroup": "True",
         "hovertemplate": "main_category=web<br>year_month=%{x}<br>count=%{y}<extra></extra>",
         "legendgroup": "web",
         "marker": {
          "color": "#EF553B",
          "pattern": {
           "shape": ""
          }
         },
         "name": "web",
         "offsetgroup": "web",
         "orientation": "v",
         "showlegend": true,
         "textposition": "auto",
         "x": [
          "2022-01",
          "2021-10",
          "2021-08",
          "2021-05",
          "2023-03",
          "2021-09",
          "2021-11",
          "2022-10"
         ],
         "xaxis": "x",
         "y": [
          13,
          5,
          5,
          2,
          1,
          1,
          1,
          1
         ],
         "yaxis": "y",
         "type": "bar"
        },
        {
         "alignmentgroup": "True",
         "hovertemplate": "main_category=github actions<br>year_month=%{x}<br>count=%{y}<extra></extra>",
         "legendgroup": "github actions",
         "marker": {
          "color": "#00cc96",
          "pattern": {
           "shape": ""
          }
         },
         "name": "github actions",
         "offsetgroup": "github actions",
         "orientation": "v",
         "showlegend": true,
         "textposition": "auto",
         "x": [
          "2022-03",
          "2022-02"
         ],
         "xaxis": "x",
         "y": [
          12,
          8
         ],
         "yaxis": "y",
         "type": "bar"
        },
        {
         "alignmentgroup": "True",
         "hovertemplate": "main_category=flink<br>year_month=%{x}<br>count=%{y}<extra></extra>",
         "legendgroup": "flink",
         "marker": {
          "color": "#ab63fa",
          "pattern": {
           "shape": ""
          }
         },
         "name": "flink",
         "offsetgroup": "flink",
         "orientation": "v",
         "showlegend": true,
         "textposition": "auto",
         "x": [
          "2021-05"
         ],
         "xaxis": "x",
         "y": [
          11
         ],
         "yaxis": "y",
         "type": "bar"
        },
        {
         "alignmentgroup": "True",
         "hovertemplate": "main_category=akka & pekko<br>year_month=%{x}<br>count=%{y}<extra></extra>",
         "legendgroup": "akka & pekko",
         "marker": {
          "color": "#FFA15A",
          "pattern": {
           "shape": ""
          }
         },
         "name": "akka & pekko",
         "offsetgroup": "akka & pekko",
         "orientation": "v",
         "showlegend": true,
         "textposition": "auto",
         "x": [
          "2023-07"
         ],
         "xaxis": "x",
         "y": [
          11
         ],
         "yaxis": "y",
         "type": "bar"
        },
        {
         "alignmentgroup": "True",
         "hovertemplate": "main_category=scala<br>year_month=%{x}<br>count=%{y}<extra></extra>",
         "legendgroup": "scala",
         "marker": {
          "color": "#19d3f3",
          "pattern": {
           "shape": ""
          }
         },
         "name": "scala",
         "offsetgroup": "scala",
         "orientation": "v",
         "showlegend": true,
         "textposition": "auto",
         "x": [
          "2023-01",
          "2023-02",
          "2023-07",
          "2021-11",
          "2022-12",
          "2023-03",
          "2022-11",
          "2021-03",
          "2021-10",
          "2021-07",
          "2022-02",
          "2023-04",
          "2021-08",
          "2023-06",
          "2021-06",
          "2021-05",
          "2022-03",
          "2022-07",
          "2022-10"
         ],
         "xaxis": "x",
         "y": [
          10,
          10,
          4,
          3,
          3,
          3,
          2,
          2,
          2,
          2,
          1,
          1,
          1,
          1,
          1,
          1,
          1,
          1,
          1
         ],
         "yaxis": "y",
         "type": "bar"
        },
        {
         "alignmentgroup": "True",
         "hovertemplate": "main_category=spark<br>year_month=%{x}<br>count=%{y}<extra></extra>",
         "legendgroup": "spark",
         "marker": {
          "color": "#FF6692",
          "pattern": {
           "shape": ""
          }
         },
         "name": "spark",
         "offsetgroup": "spark",
         "orientation": "v",
         "showlegend": true,
         "textposition": "auto",
         "x": [
          "2021-07",
          "2022-01",
          "2023-02",
          "2022-02"
         ],
         "xaxis": "x",
         "y": [
          8,
          2,
          1,
          1
         ],
         "yaxis": "y",
         "type": "bar"
        },
        {
         "alignmentgroup": "True",
         "hovertemplate": "main_category=plotly dash<br>year_month=%{x}<br>count=%{y}<extra></extra>",
         "legendgroup": "plotly dash",
         "marker": {
          "color": "#B6E880",
          "pattern": {
           "shape": ""
          }
         },
         "name": "plotly dash",
         "offsetgroup": "plotly dash",
         "orientation": "v",
         "showlegend": true,
         "textposition": "auto",
         "x": [
          "2022-05",
          "2022-06",
          "2023-06",
          "2023-07"
         ],
         "xaxis": "x",
         "y": [
          8,
          3,
          1,
          1
         ],
         "yaxis": "y",
         "type": "bar"
        },
        {
         "alignmentgroup": "True",
         "hovertemplate": "main_category=ansible<br>year_month=%{x}<br>count=%{y}<extra></extra>",
         "legendgroup": "ansible",
         "marker": {
          "color": "#FF97FF",
          "pattern": {
           "shape": ""
          }
         },
         "name": "ansible",
         "offsetgroup": "ansible",
         "orientation": "v",
         "showlegend": true,
         "textposition": "auto",
         "x": [
          "2022-02"
         ],
         "xaxis": "x",
         "y": [
          7
         ],
         "yaxis": "y",
         "type": "bar"
        },
        {
         "alignmentgroup": "True",
         "hovertemplate": "main_category=postgresql<br>year_month=%{x}<br>count=%{y}<extra></extra>",
         "legendgroup": "postgresql",
         "marker": {
          "color": "#FECB52",
          "pattern": {
           "shape": ""
          }
         },
         "name": "postgresql",
         "offsetgroup": "postgresql",
         "orientation": "v",
         "showlegend": true,
         "textposition": "auto",
         "x": [
          "2023-07"
         ],
         "xaxis": "x",
         "y": [
          6
         ],
         "yaxis": "y",
         "type": "bar"
        },
        {
         "alignmentgroup": "True",
         "hovertemplate": "main_category=kubernetes<br>year_month=%{x}<br>count=%{y}<extra></extra>",
         "legendgroup": "kubernetes",
         "marker": {
          "color": "#636efa",
          "pattern": {
           "shape": ""
          }
         },
         "name": "kubernetes",
         "offsetgroup": "kubernetes",
         "orientation": "v",
         "showlegend": true,
         "textposition": "auto",
         "x": [
          "2021-12"
         ],
         "xaxis": "x",
         "y": [
          6
         ],
         "yaxis": "y",
         "type": "bar"
        },
        {
         "alignmentgroup": "True",
         "hovertemplate": "main_category=pandas<br>year_month=%{x}<br>count=%{y}<extra></extra>",
         "legendgroup": "pandas",
         "marker": {
          "color": "#EF553B",
          "pattern": {
           "shape": ""
          }
         },
         "name": "pandas",
         "offsetgroup": "pandas",
         "orientation": "v",
         "showlegend": true,
         "textposition": "auto",
         "x": [
          "2022-10",
          "2022-08"
         ],
         "xaxis": "x",
         "y": [
          4,
          3
         ],
         "yaxis": "y",
         "type": "bar"
        },
        {
         "alignmentgroup": "True",
         "hovertemplate": "main_category=smart http client<br>year_month=%{x}<br>count=%{y}<extra></extra>",
         "legendgroup": "smart http client",
         "marker": {
          "color": "#00cc96",
          "pattern": {
           "shape": ""
          }
         },
         "name": "smart http client",
         "offsetgroup": "smart http client",
         "orientation": "v",
         "showlegend": true,
         "textposition": "auto",
         "x": [
          "2021-08"
         ],
         "xaxis": "x",
         "y": [
          4
         ],
         "yaxis": "y",
         "type": "bar"
        },
        {
         "alignmentgroup": "True",
         "hovertemplate": "main_category=머신러닝(+딥러닝)<br>year_month=%{x}<br>count=%{y}<extra></extra>",
         "legendgroup": "머신러닝(+딥러닝)",
         "marker": {
          "color": "#ab63fa",
          "pattern": {
           "shape": ""
          }
         },
         "name": "머신러닝(+딥러닝)",
         "offsetgroup": "머신러닝(+딥러닝)",
         "orientation": "v",
         "showlegend": true,
         "textposition": "auto",
         "x": [
          "2023-08"
         ],
         "xaxis": "x",
         "y": [
          4
         ],
         "yaxis": "y",
         "type": "bar"
        },
        {
         "alignmentgroup": "True",
         "hovertemplate": "main_category=spark streaming<br>year_month=%{x}<br>count=%{y}<extra></extra>",
         "legendgroup": "spark streaming",
         "marker": {
          "color": "#FFA15A",
          "pattern": {
           "shape": ""
          }
         },
         "name": "spark streaming",
         "offsetgroup": "spark streaming",
         "orientation": "v",
         "showlegend": true,
         "textposition": "auto",
         "x": [
          "2022-04",
          "2022-03"
         ],
         "xaxis": "x",
         "y": [
          3,
          3
         ],
         "yaxis": "y",
         "type": "bar"
        },
        {
         "alignmentgroup": "True",
         "hovertemplate": "main_category=elasticsearch<br>year_month=%{x}<br>count=%{y}<extra></extra>",
         "legendgroup": "elasticsearch",
         "marker": {
          "color": "#19d3f3",
          "pattern": {
           "shape": ""
          }
         },
         "name": "elasticsearch",
         "offsetgroup": "elasticsearch",
         "orientation": "v",
         "showlegend": true,
         "textposition": "auto",
         "x": [
          "2021-06",
          "2021-07",
          "2021-10"
         ],
         "xaxis": "x",
         "y": [
          3,
          1,
          1
         ],
         "yaxis": "y",
         "type": "bar"
        },
        {
         "alignmentgroup": "True",
         "hovertemplate": "main_category=zio<br>year_month=%{x}<br>count=%{y}<extra></extra>",
         "legendgroup": "zio",
         "marker": {
          "color": "#FF6692",
          "pattern": {
           "shape": ""
          }
         },
         "name": "zio",
         "offsetgroup": "zio",
         "orientation": "v",
         "showlegend": true,
         "textposition": "auto",
         "x": [
          "2022-07",
          "2022-11",
          "2021-08",
          "2021-09",
          "2021-07",
          "2022-12",
          "2021-10"
         ],
         "xaxis": "x",
         "y": [
          3,
          3,
          2,
          2,
          1,
          1,
          1
         ],
         "yaxis": "y",
         "type": "bar"
        },
        {
         "alignmentgroup": "True",
         "hovertemplate": "main_category=docker<br>year_month=%{x}<br>count=%{y}<extra></extra>",
         "legendgroup": "docker",
         "marker": {
          "color": "#B6E880",
          "pattern": {
           "shape": ""
          }
         },
         "name": "docker",
         "offsetgroup": "docker",
         "orientation": "v",
         "showlegend": true,
         "textposition": "auto",
         "x": [
          "2021-11",
          "2021-07",
          "2021-06",
          "2021-12",
          "2022-06",
          "2021-10"
         ],
         "xaxis": "x",
         "y": [
          3,
          1,
          1,
          1,
          1,
          1
         ],
         "yaxis": "y",
         "type": "bar"
        },
        {
         "alignmentgroup": "True",
         "hovertemplate": "main_category=chrome extension<br>year_month=%{x}<br>count=%{y}<extra></extra>",
         "legendgroup": "chrome extension",
         "marker": {
          "color": "#FF97FF",
          "pattern": {
           "shape": ""
          }
         },
         "name": "chrome extension",
         "offsetgroup": "chrome extension",
         "orientation": "v",
         "showlegend": true,
         "textposition": "auto",
         "x": [
          "2022-12",
          "2023-02"
         ],
         "xaxis": "x",
         "y": [
          3,
          1
         ],
         "yaxis": "y",
         "type": "bar"
        },
        {
         "alignmentgroup": "True",
         "hovertemplate": "main_category=scala jdbc<br>year_month=%{x}<br>count=%{y}<extra></extra>",
         "legendgroup": "scala jdbc",
         "marker": {
          "color": "#FECB52",
          "pattern": {
           "shape": ""
          }
         },
         "name": "scala jdbc",
         "offsetgroup": "scala jdbc",
         "orientation": "v",
         "showlegend": true,
         "textposition": "auto",
         "x": [
          "2023-06",
          "2023-03",
          "2021-11"
         ],
         "xaxis": "x",
         "y": [
          2,
          2,
          1
         ],
         "yaxis": "y",
         "type": "bar"
        },
        {
         "alignmentgroup": "True",
         "hovertemplate": "main_category=nginx<br>year_month=%{x}<br>count=%{y}<extra></extra>",
         "legendgroup": "nginx",
         "marker": {
          "color": "#636efa",
          "pattern": {
           "shape": ""
          }
         },
         "name": "nginx",
         "offsetgroup": "nginx",
         "orientation": "v",
         "showlegend": true,
         "textposition": "auto",
         "x": [
          "2021-12"
         ],
         "xaxis": "x",
         "y": [
          2
         ],
         "yaxis": "y",
         "type": "bar"
        },
        {
         "alignmentgroup": "True",
         "hovertemplate": "main_category=bash<br>year_month=%{x}<br>count=%{y}<extra></extra>",
         "legendgroup": "bash",
         "marker": {
          "color": "#EF553B",
          "pattern": {
           "shape": ""
          }
         },
         "name": "bash",
         "offsetgroup": "bash",
         "orientation": "v",
         "showlegend": true,
         "textposition": "auto",
         "x": [
          "2021-10",
          "2021-08",
          "2023-04",
          "2022-01"
         ],
         "xaxis": "x",
         "y": [
          2,
          1,
          1,
          1
         ],
         "yaxis": "y",
         "type": "bar"
        },
        {
         "alignmentgroup": "True",
         "hovertemplate": "main_category=mysql<br>year_month=%{x}<br>count=%{y}<extra></extra>",
         "legendgroup": "mysql",
         "marker": {
          "color": "#00cc96",
          "pattern": {
           "shape": ""
          }
         },
         "name": "mysql",
         "offsetgroup": "mysql",
         "orientation": "v",
         "showlegend": true,
         "textposition": "auto",
         "x": [
          "2023-05"
         ],
         "xaxis": "x",
         "y": [
          1
         ],
         "yaxis": "y",
         "type": "bar"
        },
        {
         "alignmentgroup": "True",
         "hovertemplate": "main_category=airflow<br>year_month=%{x}<br>count=%{y}<extra></extra>",
         "legendgroup": "airflow",
         "marker": {
          "color": "#ab63fa",
          "pattern": {
           "shape": ""
          }
         },
         "name": "airflow",
         "offsetgroup": "airflow",
         "orientation": "v",
         "showlegend": true,
         "textposition": "auto",
         "x": [
          "2021-07"
         ],
         "xaxis": "x",
         "y": [
          1
         ],
         "yaxis": "y",
         "type": "bar"
        },
        {
         "alignmentgroup": "True",
         "hovertemplate": "main_category=코딩테스트<br>year_month=%{x}<br>count=%{y}<extra></extra>",
         "legendgroup": "코딩테스트",
         "marker": {
          "color": "#FFA15A",
          "pattern": {
           "shape": ""
          }
         },
         "name": "코딩테스트",
         "offsetgroup": "코딩테스트",
         "orientation": "v",
         "showlegend": true,
         "textposition": "auto",
         "x": [
          "2021-08"
         ],
         "xaxis": "x",
         "y": [
          1
         ],
         "yaxis": "y",
         "type": "bar"
        },
        {
         "alignmentgroup": "True",
         "hovertemplate": "main_category=oauth2<br>year_month=%{x}<br>count=%{y}<extra></extra>",
         "legendgroup": "oauth2",
         "marker": {
          "color": "#19d3f3",
          "pattern": {
           "shape": ""
          }
         },
         "name": "oauth2",
         "offsetgroup": "oauth2",
         "orientation": "v",
         "showlegend": true,
         "textposition": "auto",
         "x": [
          "2022-02"
         ],
         "xaxis": "x",
         "y": [
          1
         ],
         "yaxis": "y",
         "type": "bar"
        },
        {
         "alignmentgroup": "True",
         "hovertemplate": "main_category=wsl2<br>year_month=%{x}<br>count=%{y}<extra></extra>",
         "legendgroup": "wsl2",
         "marker": {
          "color": "#FF6692",
          "pattern": {
           "shape": ""
          }
         },
         "name": "wsl2",
         "offsetgroup": "wsl2",
         "orientation": "v",
         "showlegend": true,
         "textposition": "auto",
         "x": [
          "2021-12",
          "2021-11"
         ],
         "xaxis": "x",
         "y": [
          1,
          1
         ],
         "yaxis": "y",
         "type": "bar"
        },
        {
         "alignmentgroup": "True",
         "hovertemplate": "main_category=flask<br>year_month=%{x}<br>count=%{y}<extra></extra>",
         "legendgroup": "flask",
         "marker": {
          "color": "#B6E880",
          "pattern": {
           "shape": ""
          }
         },
         "name": "flask",
         "offsetgroup": "flask",
         "orientation": "v",
         "showlegend": true,
         "textposition": "auto",
         "x": [
          "2022-06",
          "2022-07"
         ],
         "xaxis": "x",
         "y": [
          1,
          1
         ],
         "yaxis": "y",
         "type": "bar"
        },
        {
         "alignmentgroup": "True",
         "hovertemplate": "main_category=gitbook<br>year_month=%{x}<br>count=%{y}<extra></extra>",
         "legendgroup": "gitbook",
         "marker": {
          "color": "#FF97FF",
          "pattern": {
           "shape": ""
          }
         },
         "name": "gitbook",
         "offsetgroup": "gitbook",
         "orientation": "v",
         "showlegend": true,
         "textposition": "auto",
         "x": [
          "2021-10"
         ],
         "xaxis": "x",
         "y": [
          1
         ],
         "yaxis": "y",
         "type": "bar"
        },
        {
         "alignmentgroup": "True",
         "hovertemplate": "main_category=개인프로젝트<br>year_month=%{x}<br>count=%{y}<extra></extra>",
         "legendgroup": "개인프로젝트",
         "marker": {
          "color": "#FECB52",
          "pattern": {
           "shape": ""
          }
         },
         "name": "개인프로젝트",
         "offsetgroup": "개인프로젝트",
         "orientation": "v",
         "showlegend": true,
         "textposition": "auto",
         "x": [
          "2023-09"
         ],
         "xaxis": "x",
         "y": [
          1
         ],
         "yaxis": "y",
         "type": "bar"
        }
       ],
       "layout": {
        "template": {
         "data": {
          "histogram2dcontour": [
           {
            "type": "histogram2dcontour",
            "colorbar": {
             "outlinewidth": 0,
             "ticks": ""
            },
            "colorscale": [
             [
              0.0,
              "#0d0887"
             ],
             [
              0.1111111111111111,
              "#46039f"
             ],
             [
              0.2222222222222222,
              "#7201a8"
             ],
             [
              0.3333333333333333,
              "#9c179e"
             ],
             [
              0.4444444444444444,
              "#bd3786"
             ],
             [
              0.5555555555555556,
              "#d8576b"
             ],
             [
              0.6666666666666666,
              "#ed7953"
             ],
             [
              0.7777777777777778,
              "#fb9f3a"
             ],
             [
              0.8888888888888888,
              "#fdca26"
             ],
             [
              1.0,
              "#f0f921"
             ]
            ]
           }
          ],
          "choropleth": [
           {
            "type": "choropleth",
            "colorbar": {
             "outlinewidth": 0,
             "ticks": ""
            }
           }
          ],
          "histogram2d": [
           {
            "type": "histogram2d",
            "colorbar": {
             "outlinewidth": 0,
             "ticks": ""
            },
            "colorscale": [
             [
              0.0,
              "#0d0887"
             ],
             [
              0.1111111111111111,
              "#46039f"
             ],
             [
              0.2222222222222222,
              "#7201a8"
             ],
             [
              0.3333333333333333,
              "#9c179e"
             ],
             [
              0.4444444444444444,
              "#bd3786"
             ],
             [
              0.5555555555555556,
              "#d8576b"
             ],
             [
              0.6666666666666666,
              "#ed7953"
             ],
             [
              0.7777777777777778,
              "#fb9f3a"
             ],
             [
              0.8888888888888888,
              "#fdca26"
             ],
             [
              1.0,
              "#f0f921"
             ]
            ]
           }
          ],
          "heatmap": [
           {
            "type": "heatmap",
            "colorbar": {
             "outlinewidth": 0,
             "ticks": ""
            },
            "colorscale": [
             [
              0.0,
              "#0d0887"
             ],
             [
              0.1111111111111111,
              "#46039f"
             ],
             [
              0.2222222222222222,
              "#7201a8"
             ],
             [
              0.3333333333333333,
              "#9c179e"
             ],
             [
              0.4444444444444444,
              "#bd3786"
             ],
             [
              0.5555555555555556,
              "#d8576b"
             ],
             [
              0.6666666666666666,
              "#ed7953"
             ],
             [
              0.7777777777777778,
              "#fb9f3a"
             ],
             [
              0.8888888888888888,
              "#fdca26"
             ],
             [
              1.0,
              "#f0f921"
             ]
            ]
           }
          ],
          "heatmapgl": [
           {
            "type": "heatmapgl",
            "colorbar": {
             "outlinewidth": 0,
             "ticks": ""
            },
            "colorscale": [
             [
              0.0,
              "#0d0887"
             ],
             [
              0.1111111111111111,
              "#46039f"
             ],
             [
              0.2222222222222222,
              "#7201a8"
             ],
             [
              0.3333333333333333,
              "#9c179e"
             ],
             [
              0.4444444444444444,
              "#bd3786"
             ],
             [
              0.5555555555555556,
              "#d8576b"
             ],
             [
              0.6666666666666666,
              "#ed7953"
             ],
             [
              0.7777777777777778,
              "#fb9f3a"
             ],
             [
              0.8888888888888888,
              "#fdca26"
             ],
             [
              1.0,
              "#f0f921"
             ]
            ]
           }
          ],
          "contourcarpet": [
           {
            "type": "contourcarpet",
            "colorbar": {
             "outlinewidth": 0,
             "ticks": ""
            }
           }
          ],
          "contour": [
           {
            "type": "contour",
            "colorbar": {
             "outlinewidth": 0,
             "ticks": ""
            },
            "colorscale": [
             [
              0.0,
              "#0d0887"
             ],
             [
              0.1111111111111111,
              "#46039f"
             ],
             [
              0.2222222222222222,
              "#7201a8"
             ],
             [
              0.3333333333333333,
              "#9c179e"
             ],
             [
              0.4444444444444444,
              "#bd3786"
             ],
             [
              0.5555555555555556,
              "#d8576b"
             ],
             [
              0.6666666666666666,
              "#ed7953"
             ],
             [
              0.7777777777777778,
              "#fb9f3a"
             ],
             [
              0.8888888888888888,
              "#fdca26"
             ],
             [
              1.0,
              "#f0f921"
             ]
            ]
           }
          ],
          "surface": [
           {
            "type": "surface",
            "colorbar": {
             "outlinewidth": 0,
             "ticks": ""
            },
            "colorscale": [
             [
              0.0,
              "#0d0887"
             ],
             [
              0.1111111111111111,
              "#46039f"
             ],
             [
              0.2222222222222222,
              "#7201a8"
             ],
             [
              0.3333333333333333,
              "#9c179e"
             ],
             [
              0.4444444444444444,
              "#bd3786"
             ],
             [
              0.5555555555555556,
              "#d8576b"
             ],
             [
              0.6666666666666666,
              "#ed7953"
             ],
             [
              0.7777777777777778,
              "#fb9f3a"
             ],
             [
              0.8888888888888888,
              "#fdca26"
             ],
             [
              1.0,
              "#f0f921"
             ]
            ]
           }
          ],
          "mesh3d": [
           {
            "type": "mesh3d",
            "colorbar": {
             "outlinewidth": 0,
             "ticks": ""
            }
           }
          ],
          "scatter": [
           {
            "marker": {
             "line": {
              "color": "#283442"
             }
            },
            "type": "scatter"
           }
          ],
          "parcoords": [
           {
            "type": "parcoords",
            "line": {
             "colorbar": {
              "outlinewidth": 0,
              "ticks": ""
             }
            }
           }
          ],
          "scatterpolargl": [
           {
            "type": "scatterpolargl",
            "marker": {
             "colorbar": {
              "outlinewidth": 0,
              "ticks": ""
             }
            }
           }
          ],
          "bar": [
           {
            "error_x": {
             "color": "#f2f5fa"
            },
            "error_y": {
             "color": "#f2f5fa"
            },
            "marker": {
             "line": {
              "color": "rgb(17,17,17)",
              "width": 0.5
             },
             "pattern": {
              "fillmode": "overlay",
              "size": 10,
              "solidity": 0.2
             }
            },
            "type": "bar"
           }
          ],
          "scattergeo": [
           {
            "type": "scattergeo",
            "marker": {
             "colorbar": {
              "outlinewidth": 0,
              "ticks": ""
             }
            }
           }
          ],
          "scatterpolar": [
           {
            "type": "scatterpolar",
            "marker": {
             "colorbar": {
              "outlinewidth": 0,
              "ticks": ""
             }
            }
           }
          ],
          "histogram": [
           {
            "marker": {
             "pattern": {
              "fillmode": "overlay",
              "size": 10,
              "solidity": 0.2
             }
            },
            "type": "histogram"
           }
          ],
          "scattergl": [
           {
            "marker": {
             "line": {
              "color": "#283442"
             }
            },
            "type": "scattergl"
           }
          ],
          "scatter3d": [
           {
            "type": "scatter3d",
            "line": {
             "colorbar": {
              "outlinewidth": 0,
              "ticks": ""
             }
            },
            "marker": {
             "colorbar": {
              "outlinewidth": 0,
              "ticks": ""
             }
            }
           }
          ],
          "scattermapbox": [
           {
            "type": "scattermapbox",
            "marker": {
             "colorbar": {
              "outlinewidth": 0,
              "ticks": ""
             }
            }
           }
          ],
          "scatterternary": [
           {
            "type": "scatterternary",
            "marker": {
             "colorbar": {
              "outlinewidth": 0,
              "ticks": ""
             }
            }
           }
          ],
          "scattercarpet": [
           {
            "type": "scattercarpet",
            "marker": {
             "colorbar": {
              "outlinewidth": 0,
              "ticks": ""
             }
            }
           }
          ],
          "carpet": [
           {
            "aaxis": {
             "endlinecolor": "#A2B1C6",
             "gridcolor": "#506784",
             "linecolor": "#506784",
             "minorgridcolor": "#506784",
             "startlinecolor": "#A2B1C6"
            },
            "baxis": {
             "endlinecolor": "#A2B1C6",
             "gridcolor": "#506784",
             "linecolor": "#506784",
             "minorgridcolor": "#506784",
             "startlinecolor": "#A2B1C6"
            },
            "type": "carpet"
           }
          ],
          "table": [
           {
            "cells": {
             "fill": {
              "color": "#506784"
             },
             "line": {
              "color": "rgb(17,17,17)"
             }
            },
            "header": {
             "fill": {
              "color": "#2a3f5f"
             },
             "line": {
              "color": "rgb(17,17,17)"
             }
            },
            "type": "table"
           }
          ],
          "barpolar": [
           {
            "marker": {
             "line": {
              "color": "rgb(17,17,17)",
              "width": 0.5
             },
             "pattern": {
              "fillmode": "overlay",
              "size": 10,
              "solidity": 0.2
             }
            },
            "type": "barpolar"
           }
          ],
          "pie": [
           {
            "automargin": true,
            "type": "pie"
           }
          ]
         },
         "layout": {
          "autotypenumbers": "strict",
          "colorway": [
           "#636efa",
           "#EF553B",
           "#00cc96",
           "#ab63fa",
           "#FFA15A",
           "#19d3f3",
           "#FF6692",
           "#B6E880",
           "#FF97FF",
           "#FECB52"
          ],
          "font": {
           "color": "#f2f5fa"
          },
          "hovermode": "closest",
          "hoverlabel": {
           "align": "left"
          },
          "paper_bgcolor": "rgb(17,17,17)",
          "plot_bgcolor": "rgb(17,17,17)",
          "polar": {
           "bgcolor": "rgb(17,17,17)",
           "angularaxis": {
            "gridcolor": "#506784",
            "linecolor": "#506784",
            "ticks": ""
           },
           "radialaxis": {
            "gridcolor": "#506784",
            "linecolor": "#506784",
            "ticks": ""
           }
          },
          "ternary": {
           "bgcolor": "rgb(17,17,17)",
           "aaxis": {
            "gridcolor": "#506784",
            "linecolor": "#506784",
            "ticks": ""
           },
           "baxis": {
            "gridcolor": "#506784",
            "linecolor": "#506784",
            "ticks": ""
           },
           "caxis": {
            "gridcolor": "#506784",
            "linecolor": "#506784",
            "ticks": ""
           }
          },
          "coloraxis": {
           "colorbar": {
            "outlinewidth": 0,
            "ticks": ""
           }
          },
          "colorscale": {
           "sequential": [
            [
             0.0,
             "#0d0887"
            ],
            [
             0.1111111111111111,
             "#46039f"
            ],
            [
             0.2222222222222222,
             "#7201a8"
            ],
            [
             0.3333333333333333,
             "#9c179e"
            ],
            [
             0.4444444444444444,
             "#bd3786"
            ],
            [
             0.5555555555555556,
             "#d8576b"
            ],
            [
             0.6666666666666666,
             "#ed7953"
            ],
            [
             0.7777777777777778,
             "#fb9f3a"
            ],
            [
             0.8888888888888888,
             "#fdca26"
            ],
            [
             1.0,
             "#f0f921"
            ]
           ],
           "sequentialminus": [
            [
             0.0,
             "#0d0887"
            ],
            [
             0.1111111111111111,
             "#46039f"
            ],
            [
             0.2222222222222222,
             "#7201a8"
            ],
            [
             0.3333333333333333,
             "#9c179e"
            ],
            [
             0.4444444444444444,
             "#bd3786"
            ],
            [
             0.5555555555555556,
             "#d8576b"
            ],
            [
             0.6666666666666666,
             "#ed7953"
            ],
            [
             0.7777777777777778,
             "#fb9f3a"
            ],
            [
             0.8888888888888888,
             "#fdca26"
            ],
            [
             1.0,
             "#f0f921"
            ]
           ],
           "diverging": [
            [
             0,
             "#8e0152"
            ],
            [
             0.1,
             "#c51b7d"
            ],
            [
             0.2,
             "#de77ae"
            ],
            [
             0.3,
             "#f1b6da"
            ],
            [
             0.4,
             "#fde0ef"
            ],
            [
             0.5,
             "#f7f7f7"
            ],
            [
             0.6,
             "#e6f5d0"
            ],
            [
             0.7,
             "#b8e186"
            ],
            [
             0.8,
             "#7fbc41"
            ],
            [
             0.9,
             "#4d9221"
            ],
            [
             1,
             "#276419"
            ]
           ]
          },
          "xaxis": {
           "gridcolor": "#283442",
           "linecolor": "#506784",
           "ticks": "",
           "title": {
            "standoff": 15
           },
           "zerolinecolor": "#283442",
           "automargin": true,
           "zerolinewidth": 2
          },
          "yaxis": {
           "gridcolor": "#283442",
           "linecolor": "#506784",
           "ticks": "",
           "title": {
            "standoff": 15
           },
           "zerolinecolor": "#283442",
           "automargin": true,
           "zerolinewidth": 2
          },
          "scene": {
           "xaxis": {
            "backgroundcolor": "rgb(17,17,17)",
            "gridcolor": "#506784",
            "linecolor": "#506784",
            "showbackground": true,
            "ticks": "",
            "zerolinecolor": "#C8D4E3",
            "gridwidth": 2
           },
           "yaxis": {
            "backgroundcolor": "rgb(17,17,17)",
            "gridcolor": "#506784",
            "linecolor": "#506784",
            "showbackground": true,
            "ticks": "",
            "zerolinecolor": "#C8D4E3",
            "gridwidth": 2
           },
           "zaxis": {
            "backgroundcolor": "rgb(17,17,17)",
            "gridcolor": "#506784",
            "linecolor": "#506784",
            "showbackground": true,
            "ticks": "",
            "zerolinecolor": "#C8D4E3",
            "gridwidth": 2
           }
          },
          "shapedefaults": {
           "line": {
            "color": "#f2f5fa"
           }
          },
          "annotationdefaults": {
           "arrowcolor": "#f2f5fa",
           "arrowhead": 0,
           "arrowwidth": 1
          },
          "geo": {
           "bgcolor": "rgb(17,17,17)",
           "landcolor": "rgb(17,17,17)",
           "subunitcolor": "#506784",
           "showland": true,
           "showlakes": true,
           "lakecolor": "rgb(17,17,17)"
          },
          "title": {
           "x": 0.05
          },
          "updatemenudefaults": {
           "bgcolor": "#506784",
           "borderwidth": 0
          },
          "sliderdefaults": {
           "bgcolor": "#C8D4E3",
           "borderwidth": 1,
           "bordercolor": "rgb(17,17,17)",
           "tickwidth": 0
          },
          "mapbox": {
           "style": "dark"
          }
         }
        },
        "xaxis": {
         "anchor": "y",
         "domain": [
          0.0,
          1.0
         ],
         "title": {
          "text": "year_month"
         }
        },
        "yaxis": {
         "anchor": "x",
         "domain": [
          0.0,
          1.0
         ],
         "title": {
          "text": "count"
         }
        },
        "legend": {
         "title": {
          "text": "main_category"
         },
         "tracegroupgap": 0
        },
        "margin": {
         "t": 60
        },
        "barmode": "relative"
       },
       "config": {
        "plotlyServerURL": "https://plot.ly"
       }
      },
      "text/html": "<div>                            <div id=\"677d7520-00fa-4b8b-9cb9-12c59b07053c\" class=\"plotly-graph-div\" style=\"height:525px; width:100%;\"></div>            <script type=\"text/javascript\">                require([\"plotly\"], function(Plotly) {                    window.PLOTLYENV=window.PLOTLYENV || {};                                    if (document.getElementById(\"677d7520-00fa-4b8b-9cb9-12c59b07053c\")) {                    Plotly.newPlot(                        \"677d7520-00fa-4b8b-9cb9-12c59b07053c\",                        [{\"alignmentgroup\":\"True\",\"hovertemplate\":\"main_category=python<br>year_month=%{x}<br>count=%{y}<extra></extra>\",\"legendgroup\":\"python\",\"marker\":{\"color\":\"#636efa\",\"pattern\":{\"shape\":\"\"}},\"name\":\"python\",\"offsetgroup\":\"python\",\"orientation\":\"v\",\"showlegend\":true,\"textposition\":\"auto\",\"x\":[\"2022-04\",\"2022-05\",\"2023-07\",\"2022-09\",\"2022-10\",\"2023-05\",\"2023-04\",\"2023-01\",\"2023-08\",\"2023-06\",\"2023-02\",\"2022-07\"],\"xaxis\":\"x\",\"y\":[21,18,6,4,4,3,3,2,2,1,1,1],\"yaxis\":\"y\",\"type\":\"bar\"},{\"alignmentgroup\":\"True\",\"hovertemplate\":\"main_category=web<br>year_month=%{x}<br>count=%{y}<extra></extra>\",\"legendgroup\":\"web\",\"marker\":{\"color\":\"#EF553B\",\"pattern\":{\"shape\":\"\"}},\"name\":\"web\",\"offsetgroup\":\"web\",\"orientation\":\"v\",\"showlegend\":true,\"textposition\":\"auto\",\"x\":[\"2022-01\",\"2021-10\",\"2021-08\",\"2021-05\",\"2023-03\",\"2021-09\",\"2021-11\",\"2022-10\"],\"xaxis\":\"x\",\"y\":[13,5,5,2,1,1,1,1],\"yaxis\":\"y\",\"type\":\"bar\"},{\"alignmentgroup\":\"True\",\"hovertemplate\":\"main_category=github actions<br>year_month=%{x}<br>count=%{y}<extra></extra>\",\"legendgroup\":\"github actions\",\"marker\":{\"color\":\"#00cc96\",\"pattern\":{\"shape\":\"\"}},\"name\":\"github actions\",\"offsetgroup\":\"github actions\",\"orientation\":\"v\",\"showlegend\":true,\"textposition\":\"auto\",\"x\":[\"2022-03\",\"2022-02\"],\"xaxis\":\"x\",\"y\":[12,8],\"yaxis\":\"y\",\"type\":\"bar\"},{\"alignmentgroup\":\"True\",\"hovertemplate\":\"main_category=flink<br>year_month=%{x}<br>count=%{y}<extra></extra>\",\"legendgroup\":\"flink\",\"marker\":{\"color\":\"#ab63fa\",\"pattern\":{\"shape\":\"\"}},\"name\":\"flink\",\"offsetgroup\":\"flink\",\"orientation\":\"v\",\"showlegend\":true,\"textposition\":\"auto\",\"x\":[\"2021-05\"],\"xaxis\":\"x\",\"y\":[11],\"yaxis\":\"y\",\"type\":\"bar\"},{\"alignmentgroup\":\"True\",\"hovertemplate\":\"main_category=akka & pekko<br>year_month=%{x}<br>count=%{y}<extra></extra>\",\"legendgroup\":\"akka & pekko\",\"marker\":{\"color\":\"#FFA15A\",\"pattern\":{\"shape\":\"\"}},\"name\":\"akka & pekko\",\"offsetgroup\":\"akka & pekko\",\"orientation\":\"v\",\"showlegend\":true,\"textposition\":\"auto\",\"x\":[\"2023-07\"],\"xaxis\":\"x\",\"y\":[11],\"yaxis\":\"y\",\"type\":\"bar\"},{\"alignmentgroup\":\"True\",\"hovertemplate\":\"main_category=scala<br>year_month=%{x}<br>count=%{y}<extra></extra>\",\"legendgroup\":\"scala\",\"marker\":{\"color\":\"#19d3f3\",\"pattern\":{\"shape\":\"\"}},\"name\":\"scala\",\"offsetgroup\":\"scala\",\"orientation\":\"v\",\"showlegend\":true,\"textposition\":\"auto\",\"x\":[\"2023-01\",\"2023-02\",\"2023-07\",\"2021-11\",\"2022-12\",\"2023-03\",\"2022-11\",\"2021-03\",\"2021-10\",\"2021-07\",\"2022-02\",\"2023-04\",\"2021-08\",\"2023-06\",\"2021-06\",\"2021-05\",\"2022-03\",\"2022-07\",\"2022-10\"],\"xaxis\":\"x\",\"y\":[10,10,4,3,3,3,2,2,2,2,1,1,1,1,1,1,1,1,1],\"yaxis\":\"y\",\"type\":\"bar\"},{\"alignmentgroup\":\"True\",\"hovertemplate\":\"main_category=spark<br>year_month=%{x}<br>count=%{y}<extra></extra>\",\"legendgroup\":\"spark\",\"marker\":{\"color\":\"#FF6692\",\"pattern\":{\"shape\":\"\"}},\"name\":\"spark\",\"offsetgroup\":\"spark\",\"orientation\":\"v\",\"showlegend\":true,\"textposition\":\"auto\",\"x\":[\"2021-07\",\"2022-01\",\"2023-02\",\"2022-02\"],\"xaxis\":\"x\",\"y\":[8,2,1,1],\"yaxis\":\"y\",\"type\":\"bar\"},{\"alignmentgroup\":\"True\",\"hovertemplate\":\"main_category=plotly dash<br>year_month=%{x}<br>count=%{y}<extra></extra>\",\"legendgroup\":\"plotly dash\",\"marker\":{\"color\":\"#B6E880\",\"pattern\":{\"shape\":\"\"}},\"name\":\"plotly dash\",\"offsetgroup\":\"plotly dash\",\"orientation\":\"v\",\"showlegend\":true,\"textposition\":\"auto\",\"x\":[\"2022-05\",\"2022-06\",\"2023-06\",\"2023-07\"],\"xaxis\":\"x\",\"y\":[8,3,1,1],\"yaxis\":\"y\",\"type\":\"bar\"},{\"alignmentgroup\":\"True\",\"hovertemplate\":\"main_category=ansible<br>year_month=%{x}<br>count=%{y}<extra></extra>\",\"legendgroup\":\"ansible\",\"marker\":{\"color\":\"#FF97FF\",\"pattern\":{\"shape\":\"\"}},\"name\":\"ansible\",\"offsetgroup\":\"ansible\",\"orientation\":\"v\",\"showlegend\":true,\"textposition\":\"auto\",\"x\":[\"2022-02\"],\"xaxis\":\"x\",\"y\":[7],\"yaxis\":\"y\",\"type\":\"bar\"},{\"alignmentgroup\":\"True\",\"hovertemplate\":\"main_category=postgresql<br>year_month=%{x}<br>count=%{y}<extra></extra>\",\"legendgroup\":\"postgresql\",\"marker\":{\"color\":\"#FECB52\",\"pattern\":{\"shape\":\"\"}},\"name\":\"postgresql\",\"offsetgroup\":\"postgresql\",\"orientation\":\"v\",\"showlegend\":true,\"textposition\":\"auto\",\"x\":[\"2023-07\"],\"xaxis\":\"x\",\"y\":[6],\"yaxis\":\"y\",\"type\":\"bar\"},{\"alignmentgroup\":\"True\",\"hovertemplate\":\"main_category=kubernetes<br>year_month=%{x}<br>count=%{y}<extra></extra>\",\"legendgroup\":\"kubernetes\",\"marker\":{\"color\":\"#636efa\",\"pattern\":{\"shape\":\"\"}},\"name\":\"kubernetes\",\"offsetgroup\":\"kubernetes\",\"orientation\":\"v\",\"showlegend\":true,\"textposition\":\"auto\",\"x\":[\"2021-12\"],\"xaxis\":\"x\",\"y\":[6],\"yaxis\":\"y\",\"type\":\"bar\"},{\"alignmentgroup\":\"True\",\"hovertemplate\":\"main_category=pandas<br>year_month=%{x}<br>count=%{y}<extra></extra>\",\"legendgroup\":\"pandas\",\"marker\":{\"color\":\"#EF553B\",\"pattern\":{\"shape\":\"\"}},\"name\":\"pandas\",\"offsetgroup\":\"pandas\",\"orientation\":\"v\",\"showlegend\":true,\"textposition\":\"auto\",\"x\":[\"2022-10\",\"2022-08\"],\"xaxis\":\"x\",\"y\":[4,3],\"yaxis\":\"y\",\"type\":\"bar\"},{\"alignmentgroup\":\"True\",\"hovertemplate\":\"main_category=smart http client<br>year_month=%{x}<br>count=%{y}<extra></extra>\",\"legendgroup\":\"smart http client\",\"marker\":{\"color\":\"#00cc96\",\"pattern\":{\"shape\":\"\"}},\"name\":\"smart http client\",\"offsetgroup\":\"smart http client\",\"orientation\":\"v\",\"showlegend\":true,\"textposition\":\"auto\",\"x\":[\"2021-08\"],\"xaxis\":\"x\",\"y\":[4],\"yaxis\":\"y\",\"type\":\"bar\"},{\"alignmentgroup\":\"True\",\"hovertemplate\":\"main_category=\\uba38\\uc2e0\\ub7ec\\ub2dd(+\\ub525\\ub7ec\\ub2dd)<br>year_month=%{x}<br>count=%{y}<extra></extra>\",\"legendgroup\":\"\\uba38\\uc2e0\\ub7ec\\ub2dd(+\\ub525\\ub7ec\\ub2dd)\",\"marker\":{\"color\":\"#ab63fa\",\"pattern\":{\"shape\":\"\"}},\"name\":\"\\uba38\\uc2e0\\ub7ec\\ub2dd(+\\ub525\\ub7ec\\ub2dd)\",\"offsetgroup\":\"\\uba38\\uc2e0\\ub7ec\\ub2dd(+\\ub525\\ub7ec\\ub2dd)\",\"orientation\":\"v\",\"showlegend\":true,\"textposition\":\"auto\",\"x\":[\"2023-08\"],\"xaxis\":\"x\",\"y\":[4],\"yaxis\":\"y\",\"type\":\"bar\"},{\"alignmentgroup\":\"True\",\"hovertemplate\":\"main_category=spark streaming<br>year_month=%{x}<br>count=%{y}<extra></extra>\",\"legendgroup\":\"spark streaming\",\"marker\":{\"color\":\"#FFA15A\",\"pattern\":{\"shape\":\"\"}},\"name\":\"spark streaming\",\"offsetgroup\":\"spark streaming\",\"orientation\":\"v\",\"showlegend\":true,\"textposition\":\"auto\",\"x\":[\"2022-04\",\"2022-03\"],\"xaxis\":\"x\",\"y\":[3,3],\"yaxis\":\"y\",\"type\":\"bar\"},{\"alignmentgroup\":\"True\",\"hovertemplate\":\"main_category=elasticsearch<br>year_month=%{x}<br>count=%{y}<extra></extra>\",\"legendgroup\":\"elasticsearch\",\"marker\":{\"color\":\"#19d3f3\",\"pattern\":{\"shape\":\"\"}},\"name\":\"elasticsearch\",\"offsetgroup\":\"elasticsearch\",\"orientation\":\"v\",\"showlegend\":true,\"textposition\":\"auto\",\"x\":[\"2021-06\",\"2021-07\",\"2021-10\"],\"xaxis\":\"x\",\"y\":[3,1,1],\"yaxis\":\"y\",\"type\":\"bar\"},{\"alignmentgroup\":\"True\",\"hovertemplate\":\"main_category=zio<br>year_month=%{x}<br>count=%{y}<extra></extra>\",\"legendgroup\":\"zio\",\"marker\":{\"color\":\"#FF6692\",\"pattern\":{\"shape\":\"\"}},\"name\":\"zio\",\"offsetgroup\":\"zio\",\"orientation\":\"v\",\"showlegend\":true,\"textposition\":\"auto\",\"x\":[\"2022-07\",\"2022-11\",\"2021-08\",\"2021-09\",\"2021-07\",\"2022-12\",\"2021-10\"],\"xaxis\":\"x\",\"y\":[3,3,2,2,1,1,1],\"yaxis\":\"y\",\"type\":\"bar\"},{\"alignmentgroup\":\"True\",\"hovertemplate\":\"main_category=docker<br>year_month=%{x}<br>count=%{y}<extra></extra>\",\"legendgroup\":\"docker\",\"marker\":{\"color\":\"#B6E880\",\"pattern\":{\"shape\":\"\"}},\"name\":\"docker\",\"offsetgroup\":\"docker\",\"orientation\":\"v\",\"showlegend\":true,\"textposition\":\"auto\",\"x\":[\"2021-11\",\"2021-07\",\"2021-06\",\"2021-12\",\"2022-06\",\"2021-10\"],\"xaxis\":\"x\",\"y\":[3,1,1,1,1,1],\"yaxis\":\"y\",\"type\":\"bar\"},{\"alignmentgroup\":\"True\",\"hovertemplate\":\"main_category=chrome extension<br>year_month=%{x}<br>count=%{y}<extra></extra>\",\"legendgroup\":\"chrome extension\",\"marker\":{\"color\":\"#FF97FF\",\"pattern\":{\"shape\":\"\"}},\"name\":\"chrome extension\",\"offsetgroup\":\"chrome extension\",\"orientation\":\"v\",\"showlegend\":true,\"textposition\":\"auto\",\"x\":[\"2022-12\",\"2023-02\"],\"xaxis\":\"x\",\"y\":[3,1],\"yaxis\":\"y\",\"type\":\"bar\"},{\"alignmentgroup\":\"True\",\"hovertemplate\":\"main_category=scala jdbc<br>year_month=%{x}<br>count=%{y}<extra></extra>\",\"legendgroup\":\"scala jdbc\",\"marker\":{\"color\":\"#FECB52\",\"pattern\":{\"shape\":\"\"}},\"name\":\"scala jdbc\",\"offsetgroup\":\"scala jdbc\",\"orientation\":\"v\",\"showlegend\":true,\"textposition\":\"auto\",\"x\":[\"2023-06\",\"2023-03\",\"2021-11\"],\"xaxis\":\"x\",\"y\":[2,2,1],\"yaxis\":\"y\",\"type\":\"bar\"},{\"alignmentgroup\":\"True\",\"hovertemplate\":\"main_category=nginx<br>year_month=%{x}<br>count=%{y}<extra></extra>\",\"legendgroup\":\"nginx\",\"marker\":{\"color\":\"#636efa\",\"pattern\":{\"shape\":\"\"}},\"name\":\"nginx\",\"offsetgroup\":\"nginx\",\"orientation\":\"v\",\"showlegend\":true,\"textposition\":\"auto\",\"x\":[\"2021-12\"],\"xaxis\":\"x\",\"y\":[2],\"yaxis\":\"y\",\"type\":\"bar\"},{\"alignmentgroup\":\"True\",\"hovertemplate\":\"main_category=bash<br>year_month=%{x}<br>count=%{y}<extra></extra>\",\"legendgroup\":\"bash\",\"marker\":{\"color\":\"#EF553B\",\"pattern\":{\"shape\":\"\"}},\"name\":\"bash\",\"offsetgroup\":\"bash\",\"orientation\":\"v\",\"showlegend\":true,\"textposition\":\"auto\",\"x\":[\"2021-10\",\"2021-08\",\"2023-04\",\"2022-01\"],\"xaxis\":\"x\",\"y\":[2,1,1,1],\"yaxis\":\"y\",\"type\":\"bar\"},{\"alignmentgroup\":\"True\",\"hovertemplate\":\"main_category=mysql<br>year_month=%{x}<br>count=%{y}<extra></extra>\",\"legendgroup\":\"mysql\",\"marker\":{\"color\":\"#00cc96\",\"pattern\":{\"shape\":\"\"}},\"name\":\"mysql\",\"offsetgroup\":\"mysql\",\"orientation\":\"v\",\"showlegend\":true,\"textposition\":\"auto\",\"x\":[\"2023-05\"],\"xaxis\":\"x\",\"y\":[1],\"yaxis\":\"y\",\"type\":\"bar\"},{\"alignmentgroup\":\"True\",\"hovertemplate\":\"main_category=airflow<br>year_month=%{x}<br>count=%{y}<extra></extra>\",\"legendgroup\":\"airflow\",\"marker\":{\"color\":\"#ab63fa\",\"pattern\":{\"shape\":\"\"}},\"name\":\"airflow\",\"offsetgroup\":\"airflow\",\"orientation\":\"v\",\"showlegend\":true,\"textposition\":\"auto\",\"x\":[\"2021-07\"],\"xaxis\":\"x\",\"y\":[1],\"yaxis\":\"y\",\"type\":\"bar\"},{\"alignmentgroup\":\"True\",\"hovertemplate\":\"main_category=\\ucf54\\ub529\\ud14c\\uc2a4\\ud2b8<br>year_month=%{x}<br>count=%{y}<extra></extra>\",\"legendgroup\":\"\\ucf54\\ub529\\ud14c\\uc2a4\\ud2b8\",\"marker\":{\"color\":\"#FFA15A\",\"pattern\":{\"shape\":\"\"}},\"name\":\"\\ucf54\\ub529\\ud14c\\uc2a4\\ud2b8\",\"offsetgroup\":\"\\ucf54\\ub529\\ud14c\\uc2a4\\ud2b8\",\"orientation\":\"v\",\"showlegend\":true,\"textposition\":\"auto\",\"x\":[\"2021-08\"],\"xaxis\":\"x\",\"y\":[1],\"yaxis\":\"y\",\"type\":\"bar\"},{\"alignmentgroup\":\"True\",\"hovertemplate\":\"main_category=oauth2<br>year_month=%{x}<br>count=%{y}<extra></extra>\",\"legendgroup\":\"oauth2\",\"marker\":{\"color\":\"#19d3f3\",\"pattern\":{\"shape\":\"\"}},\"name\":\"oauth2\",\"offsetgroup\":\"oauth2\",\"orientation\":\"v\",\"showlegend\":true,\"textposition\":\"auto\",\"x\":[\"2022-02\"],\"xaxis\":\"x\",\"y\":[1],\"yaxis\":\"y\",\"type\":\"bar\"},{\"alignmentgroup\":\"True\",\"hovertemplate\":\"main_category=wsl2<br>year_month=%{x}<br>count=%{y}<extra></extra>\",\"legendgroup\":\"wsl2\",\"marker\":{\"color\":\"#FF6692\",\"pattern\":{\"shape\":\"\"}},\"name\":\"wsl2\",\"offsetgroup\":\"wsl2\",\"orientation\":\"v\",\"showlegend\":true,\"textposition\":\"auto\",\"x\":[\"2021-12\",\"2021-11\"],\"xaxis\":\"x\",\"y\":[1,1],\"yaxis\":\"y\",\"type\":\"bar\"},{\"alignmentgroup\":\"True\",\"hovertemplate\":\"main_category=flask<br>year_month=%{x}<br>count=%{y}<extra></extra>\",\"legendgroup\":\"flask\",\"marker\":{\"color\":\"#B6E880\",\"pattern\":{\"shape\":\"\"}},\"name\":\"flask\",\"offsetgroup\":\"flask\",\"orientation\":\"v\",\"showlegend\":true,\"textposition\":\"auto\",\"x\":[\"2022-06\",\"2022-07\"],\"xaxis\":\"x\",\"y\":[1,1],\"yaxis\":\"y\",\"type\":\"bar\"},{\"alignmentgroup\":\"True\",\"hovertemplate\":\"main_category=gitbook<br>year_month=%{x}<br>count=%{y}<extra></extra>\",\"legendgroup\":\"gitbook\",\"marker\":{\"color\":\"#FF97FF\",\"pattern\":{\"shape\":\"\"}},\"name\":\"gitbook\",\"offsetgroup\":\"gitbook\",\"orientation\":\"v\",\"showlegend\":true,\"textposition\":\"auto\",\"x\":[\"2021-10\"],\"xaxis\":\"x\",\"y\":[1],\"yaxis\":\"y\",\"type\":\"bar\"},{\"alignmentgroup\":\"True\",\"hovertemplate\":\"main_category=\\uac1c\\uc778\\ud504\\ub85c\\uc81d\\ud2b8<br>year_month=%{x}<br>count=%{y}<extra></extra>\",\"legendgroup\":\"\\uac1c\\uc778\\ud504\\ub85c\\uc81d\\ud2b8\",\"marker\":{\"color\":\"#FECB52\",\"pattern\":{\"shape\":\"\"}},\"name\":\"\\uac1c\\uc778\\ud504\\ub85c\\uc81d\\ud2b8\",\"offsetgroup\":\"\\uac1c\\uc778\\ud504\\ub85c\\uc81d\\ud2b8\",\"orientation\":\"v\",\"showlegend\":true,\"textposition\":\"auto\",\"x\":[\"2023-09\"],\"xaxis\":\"x\",\"y\":[1],\"yaxis\":\"y\",\"type\":\"bar\"}],                        {\"template\":{\"data\":{\"histogram2dcontour\":[{\"type\":\"histogram2dcontour\",\"colorbar\":{\"outlinewidth\":0,\"ticks\":\"\"},\"colorscale\":[[0.0,\"#0d0887\"],[0.1111111111111111,\"#46039f\"],[0.2222222222222222,\"#7201a8\"],[0.3333333333333333,\"#9c179e\"],[0.4444444444444444,\"#bd3786\"],[0.5555555555555556,\"#d8576b\"],[0.6666666666666666,\"#ed7953\"],[0.7777777777777778,\"#fb9f3a\"],[0.8888888888888888,\"#fdca26\"],[1.0,\"#f0f921\"]]}],\"choropleth\":[{\"type\":\"choropleth\",\"colorbar\":{\"outlinewidth\":0,\"ticks\":\"\"}}],\"histogram2d\":[{\"type\":\"histogram2d\",\"colorbar\":{\"outlinewidth\":0,\"ticks\":\"\"},\"colorscale\":[[0.0,\"#0d0887\"],[0.1111111111111111,\"#46039f\"],[0.2222222222222222,\"#7201a8\"],[0.3333333333333333,\"#9c179e\"],[0.4444444444444444,\"#bd3786\"],[0.5555555555555556,\"#d8576b\"],[0.6666666666666666,\"#ed7953\"],[0.7777777777777778,\"#fb9f3a\"],[0.8888888888888888,\"#fdca26\"],[1.0,\"#f0f921\"]]}],\"heatmap\":[{\"type\":\"heatmap\",\"colorbar\":{\"outlinewidth\":0,\"ticks\":\"\"},\"colorscale\":[[0.0,\"#0d0887\"],[0.1111111111111111,\"#46039f\"],[0.2222222222222222,\"#7201a8\"],[0.3333333333333333,\"#9c179e\"],[0.4444444444444444,\"#bd3786\"],[0.5555555555555556,\"#d8576b\"],[0.6666666666666666,\"#ed7953\"],[0.7777777777777778,\"#fb9f3a\"],[0.8888888888888888,\"#fdca26\"],[1.0,\"#f0f921\"]]}],\"heatmapgl\":[{\"type\":\"heatmapgl\",\"colorbar\":{\"outlinewidth\":0,\"ticks\":\"\"},\"colorscale\":[[0.0,\"#0d0887\"],[0.1111111111111111,\"#46039f\"],[0.2222222222222222,\"#7201a8\"],[0.3333333333333333,\"#9c179e\"],[0.4444444444444444,\"#bd3786\"],[0.5555555555555556,\"#d8576b\"],[0.6666666666666666,\"#ed7953\"],[0.7777777777777778,\"#fb9f3a\"],[0.8888888888888888,\"#fdca26\"],[1.0,\"#f0f921\"]]}],\"contourcarpet\":[{\"type\":\"contourcarpet\",\"colorbar\":{\"outlinewidth\":0,\"ticks\":\"\"}}],\"contour\":[{\"type\":\"contour\",\"colorbar\":{\"outlinewidth\":0,\"ticks\":\"\"},\"colorscale\":[[0.0,\"#0d0887\"],[0.1111111111111111,\"#46039f\"],[0.2222222222222222,\"#7201a8\"],[0.3333333333333333,\"#9c179e\"],[0.4444444444444444,\"#bd3786\"],[0.5555555555555556,\"#d8576b\"],[0.6666666666666666,\"#ed7953\"],[0.7777777777777778,\"#fb9f3a\"],[0.8888888888888888,\"#fdca26\"],[1.0,\"#f0f921\"]]}],\"surface\":[{\"type\":\"surface\",\"colorbar\":{\"outlinewidth\":0,\"ticks\":\"\"},\"colorscale\":[[0.0,\"#0d0887\"],[0.1111111111111111,\"#46039f\"],[0.2222222222222222,\"#7201a8\"],[0.3333333333333333,\"#9c179e\"],[0.4444444444444444,\"#bd3786\"],[0.5555555555555556,\"#d8576b\"],[0.6666666666666666,\"#ed7953\"],[0.7777777777777778,\"#fb9f3a\"],[0.8888888888888888,\"#fdca26\"],[1.0,\"#f0f921\"]]}],\"mesh3d\":[{\"type\":\"mesh3d\",\"colorbar\":{\"outlinewidth\":0,\"ticks\":\"\"}}],\"scatter\":[{\"marker\":{\"line\":{\"color\":\"#283442\"}},\"type\":\"scatter\"}],\"parcoords\":[{\"type\":\"parcoords\",\"line\":{\"colorbar\":{\"outlinewidth\":0,\"ticks\":\"\"}}}],\"scatterpolargl\":[{\"type\":\"scatterpolargl\",\"marker\":{\"colorbar\":{\"outlinewidth\":0,\"ticks\":\"\"}}}],\"bar\":[{\"error_x\":{\"color\":\"#f2f5fa\"},\"error_y\":{\"color\":\"#f2f5fa\"},\"marker\":{\"line\":{\"color\":\"rgb(17,17,17)\",\"width\":0.5},\"pattern\":{\"fillmode\":\"overlay\",\"size\":10,\"solidity\":0.2}},\"type\":\"bar\"}],\"scattergeo\":[{\"type\":\"scattergeo\",\"marker\":{\"colorbar\":{\"outlinewidth\":0,\"ticks\":\"\"}}}],\"scatterpolar\":[{\"type\":\"scatterpolar\",\"marker\":{\"colorbar\":{\"outlinewidth\":0,\"ticks\":\"\"}}}],\"histogram\":[{\"marker\":{\"pattern\":{\"fillmode\":\"overlay\",\"size\":10,\"solidity\":0.2}},\"type\":\"histogram\"}],\"scattergl\":[{\"marker\":{\"line\":{\"color\":\"#283442\"}},\"type\":\"scattergl\"}],\"scatter3d\":[{\"type\":\"scatter3d\",\"line\":{\"colorbar\":{\"outlinewidth\":0,\"ticks\":\"\"}},\"marker\":{\"colorbar\":{\"outlinewidth\":0,\"ticks\":\"\"}}}],\"scattermapbox\":[{\"type\":\"scattermapbox\",\"marker\":{\"colorbar\":{\"outlinewidth\":0,\"ticks\":\"\"}}}],\"scatterternary\":[{\"type\":\"scatterternary\",\"marker\":{\"colorbar\":{\"outlinewidth\":0,\"ticks\":\"\"}}}],\"scattercarpet\":[{\"type\":\"scattercarpet\",\"marker\":{\"colorbar\":{\"outlinewidth\":0,\"ticks\":\"\"}}}],\"carpet\":[{\"aaxis\":{\"endlinecolor\":\"#A2B1C6\",\"gridcolor\":\"#506784\",\"linecolor\":\"#506784\",\"minorgridcolor\":\"#506784\",\"startlinecolor\":\"#A2B1C6\"},\"baxis\":{\"endlinecolor\":\"#A2B1C6\",\"gridcolor\":\"#506784\",\"linecolor\":\"#506784\",\"minorgridcolor\":\"#506784\",\"startlinecolor\":\"#A2B1C6\"},\"type\":\"carpet\"}],\"table\":[{\"cells\":{\"fill\":{\"color\":\"#506784\"},\"line\":{\"color\":\"rgb(17,17,17)\"}},\"header\":{\"fill\":{\"color\":\"#2a3f5f\"},\"line\":{\"color\":\"rgb(17,17,17)\"}},\"type\":\"table\"}],\"barpolar\":[{\"marker\":{\"line\":{\"color\":\"rgb(17,17,17)\",\"width\":0.5},\"pattern\":{\"fillmode\":\"overlay\",\"size\":10,\"solidity\":0.2}},\"type\":\"barpolar\"}],\"pie\":[{\"automargin\":true,\"type\":\"pie\"}]},\"layout\":{\"autotypenumbers\":\"strict\",\"colorway\":[\"#636efa\",\"#EF553B\",\"#00cc96\",\"#ab63fa\",\"#FFA15A\",\"#19d3f3\",\"#FF6692\",\"#B6E880\",\"#FF97FF\",\"#FECB52\"],\"font\":{\"color\":\"#f2f5fa\"},\"hovermode\":\"closest\",\"hoverlabel\":{\"align\":\"left\"},\"paper_bgcolor\":\"rgb(17,17,17)\",\"plot_bgcolor\":\"rgb(17,17,17)\",\"polar\":{\"bgcolor\":\"rgb(17,17,17)\",\"angularaxis\":{\"gridcolor\":\"#506784\",\"linecolor\":\"#506784\",\"ticks\":\"\"},\"radialaxis\":{\"gridcolor\":\"#506784\",\"linecolor\":\"#506784\",\"ticks\":\"\"}},\"ternary\":{\"bgcolor\":\"rgb(17,17,17)\",\"aaxis\":{\"gridcolor\":\"#506784\",\"linecolor\":\"#506784\",\"ticks\":\"\"},\"baxis\":{\"gridcolor\":\"#506784\",\"linecolor\":\"#506784\",\"ticks\":\"\"},\"caxis\":{\"gridcolor\":\"#506784\",\"linecolor\":\"#506784\",\"ticks\":\"\"}},\"coloraxis\":{\"colorbar\":{\"outlinewidth\":0,\"ticks\":\"\"}},\"colorscale\":{\"sequential\":[[0.0,\"#0d0887\"],[0.1111111111111111,\"#46039f\"],[0.2222222222222222,\"#7201a8\"],[0.3333333333333333,\"#9c179e\"],[0.4444444444444444,\"#bd3786\"],[0.5555555555555556,\"#d8576b\"],[0.6666666666666666,\"#ed7953\"],[0.7777777777777778,\"#fb9f3a\"],[0.8888888888888888,\"#fdca26\"],[1.0,\"#f0f921\"]],\"sequentialminus\":[[0.0,\"#0d0887\"],[0.1111111111111111,\"#46039f\"],[0.2222222222222222,\"#7201a8\"],[0.3333333333333333,\"#9c179e\"],[0.4444444444444444,\"#bd3786\"],[0.5555555555555556,\"#d8576b\"],[0.6666666666666666,\"#ed7953\"],[0.7777777777777778,\"#fb9f3a\"],[0.8888888888888888,\"#fdca26\"],[1.0,\"#f0f921\"]],\"diverging\":[[0,\"#8e0152\"],[0.1,\"#c51b7d\"],[0.2,\"#de77ae\"],[0.3,\"#f1b6da\"],[0.4,\"#fde0ef\"],[0.5,\"#f7f7f7\"],[0.6,\"#e6f5d0\"],[0.7,\"#b8e186\"],[0.8,\"#7fbc41\"],[0.9,\"#4d9221\"],[1,\"#276419\"]]},\"xaxis\":{\"gridcolor\":\"#283442\",\"linecolor\":\"#506784\",\"ticks\":\"\",\"title\":{\"standoff\":15},\"zerolinecolor\":\"#283442\",\"automargin\":true,\"zerolinewidth\":2},\"yaxis\":{\"gridcolor\":\"#283442\",\"linecolor\":\"#506784\",\"ticks\":\"\",\"title\":{\"standoff\":15},\"zerolinecolor\":\"#283442\",\"automargin\":true,\"zerolinewidth\":2},\"scene\":{\"xaxis\":{\"backgroundcolor\":\"rgb(17,17,17)\",\"gridcolor\":\"#506784\",\"linecolor\":\"#506784\",\"showbackground\":true,\"ticks\":\"\",\"zerolinecolor\":\"#C8D4E3\",\"gridwidth\":2},\"yaxis\":{\"backgroundcolor\":\"rgb(17,17,17)\",\"gridcolor\":\"#506784\",\"linecolor\":\"#506784\",\"showbackground\":true,\"ticks\":\"\",\"zerolinecolor\":\"#C8D4E3\",\"gridwidth\":2},\"zaxis\":{\"backgroundcolor\":\"rgb(17,17,17)\",\"gridcolor\":\"#506784\",\"linecolor\":\"#506784\",\"showbackground\":true,\"ticks\":\"\",\"zerolinecolor\":\"#C8D4E3\",\"gridwidth\":2}},\"shapedefaults\":{\"line\":{\"color\":\"#f2f5fa\"}},\"annotationdefaults\":{\"arrowcolor\":\"#f2f5fa\",\"arrowhead\":0,\"arrowwidth\":1},\"geo\":{\"bgcolor\":\"rgb(17,17,17)\",\"landcolor\":\"rgb(17,17,17)\",\"subunitcolor\":\"#506784\",\"showland\":true,\"showlakes\":true,\"lakecolor\":\"rgb(17,17,17)\"},\"title\":{\"x\":0.05},\"updatemenudefaults\":{\"bgcolor\":\"#506784\",\"borderwidth\":0},\"sliderdefaults\":{\"bgcolor\":\"#C8D4E3\",\"borderwidth\":1,\"bordercolor\":\"rgb(17,17,17)\",\"tickwidth\":0},\"mapbox\":{\"style\":\"dark\"}}},\"xaxis\":{\"anchor\":\"y\",\"domain\":[0.0,1.0],\"title\":{\"text\":\"year_month\"}},\"yaxis\":{\"anchor\":\"x\",\"domain\":[0.0,1.0],\"title\":{\"text\":\"count\"}},\"legend\":{\"title\":{\"text\":\"main_category\"},\"tracegroupgap\":0},\"margin\":{\"t\":60},\"barmode\":\"relative\"},                        {\"responsive\": true}                    ).then(function(){\n                            \nvar gd = document.getElementById('677d7520-00fa-4b8b-9cb9-12c59b07053c');\nvar x = new MutationObserver(function (mutations, observer) {{\n        var display = window.getComputedStyle(gd).display;\n        if (!display || display === 'none') {{\n            console.log([gd, 'removed!']);\n            Plotly.purge(gd);\n            observer.disconnect();\n        }}\n}});\n\n// Listen for the removal of the full notebook cells\nvar notebookContainer = gd.closest('#notebook-container');\nif (notebookContainer) {{\n    x.observe(notebookContainer, {childList: true});\n}}\n\n// Listen for the clearing of the current output cell\nvar outputEl = gd.closest('.output');\nif (outputEl) {{\n    x.observe(outputEl, {childList: true});\n}}\n\n                        })                };                });            </script>        </div>"
     },
     "metadata": {},
     "output_type": "display_data"
    }
   ],
   "source": [
    "import plotly.express as px\n",
    "\n",
    "grouped_df = df3.reset_index()\n",
    "\n",
    "px.bar(grouped_df, x='year_month', y='count', color='main_category')\n"
   ],
   "metadata": {
    "collapsed": false,
    "ExecuteTime": {
     "end_time": "2023-09-17T09:58:29.169455Z",
     "start_time": "2023-09-17T09:58:29.056693900Z"
    }
   }
  }
 ],
 "metadata": {
  "kernelspec": {
   "display_name": "Python 3",
   "language": "python",
   "name": "python3"
  },
  "language_info": {
   "codemirror_mode": {
    "name": "ipython",
    "version": 2
   },
   "file_extension": ".py",
   "mimetype": "text/x-python",
   "name": "python",
   "nbconvert_exporter": "python",
   "pygments_lexer": "ipython2",
   "version": "2.7.6"
  }
 },
 "nbformat": 4,
 "nbformat_minor": 0
}
